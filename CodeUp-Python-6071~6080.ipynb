{
  "nbformat": 4,
  "nbformat_minor": 0,
  "metadata": {
    "colab": {
      "name": "CodeUp-Python-6071~6080.ipynb",
      "provenance": []
    },
    "kernelspec": {
      "name": "python3",
      "display_name": "Python 3"
    },
    "language_info": {
      "name": "python"
    }
  },
  "cells": [
    {
      "cell_type": "markdown",
      "source": [
        "[6071](https://codeup.kr/problem.php?id=6071). 임의의 정수가 줄을 바꿔 계속 입력된다. -2147483648 ~ +2147483647, 단 개수는 알 수 없다. 0이 아니면 입력된 정수를 출력하고, 0이 입력되면 출력을 중단해보자.(0은 출력하지 않는다.)"
      ],
      "metadata": {
        "id": "JaYHYheR7bUd"
      }
    },
    {
      "cell_type": "code",
      "execution_count": null,
      "metadata": {
        "id": "9Hvr4MQM6e_9"
      },
      "outputs": [],
      "source": [
        "while True:\n",
        "  x = int(input())\n",
        "  if x == 0:\n",
        "    break;\n",
        "  else:\n",
        "    print(x)"
      ]
    },
    {
      "cell_type": "markdown",
      "source": [
        "입력\n",
        "\n",
        "7\n",
        "\n",
        "4\n",
        "\n",
        "2\n",
        "\n",
        "3\n",
        "\n",
        "0\n",
        "\n",
        "1\n",
        "\n",
        "5\n",
        "\n",
        "6\n",
        "\n",
        "9\n",
        "\n",
        "10\n",
        "\n",
        "8\n",
        "\n",
        "출력\n",
        "\n",
        "7\n",
        "\n",
        "4\n",
        "\n",
        "2\n",
        "\n",
        "3"
      ],
      "metadata": {
        "id": "wqZWyWdl7r8F"
      }
    },
    {
      "cell_type": "markdown",
      "source": [
        "[6072](https://codeup.kr/problem.php?id=6072). 정수(1 ~ 100) 1개가 입력되었을 때 카운트다운을 출력해보자. 1만큼씩 줄이면서 한 줄에 1개씩 카운트다운 수를 출력한다."
      ],
      "metadata": {
        "id": "wYLO0zKp81zt"
      }
    },
    {
      "cell_type": "code",
      "source": [
        "x = int(input())\n",
        "\n",
        "while x > 0:\n",
        "  print(x)\n",
        "  x -= 1"
      ],
      "metadata": {
        "id": "krG5zYRV8_g4"
      },
      "execution_count": null,
      "outputs": []
    },
    {
      "cell_type": "markdown",
      "source": [
        "입력\n",
        "\n",
        "5\n",
        "\n",
        "출력\n",
        "\n",
        "5\n",
        "\n",
        "4\n",
        "\n",
        "3\n",
        "\n",
        "2\n",
        "\n",
        "1"
      ],
      "metadata": {
        "id": "ru8eYqMp9AJr"
      }
    },
    {
      "cell_type": "markdown",
      "source": [
        "[6073](https://codeup.kr/problem.php?id=6073). 정수(1 ~ 100) 1개가 입력되었을 때 카운트다운을 출력해보자. 1만큼씩 줄이면서 카운트다운 수가 0이 될 때까지 한 줄에 1개씩 출력한다."
      ],
      "metadata": {
        "id": "PHr2zAYK9YHA"
      }
    },
    {
      "cell_type": "code",
      "source": [
        "x = int(input())\n",
        "\n",
        "while x > 0:\n",
        "  x -= 1\n",
        "  print(x)"
      ],
      "metadata": {
        "id": "6iQkBsQ-9hdM"
      },
      "execution_count": null,
      "outputs": []
    },
    {
      "cell_type": "markdown",
      "source": [
        "입력\n",
        "\n",
        "5\n",
        "\n",
        "출력\n",
        "\n",
        "4\n",
        "\n",
        "3\n",
        "\n",
        "2\n",
        "\n",
        "1\n",
        "\n",
        "0"
      ],
      "metadata": {
        "id": "ExGhLNFp9h2h"
      }
    },
    {
      "cell_type": "markdown",
      "source": [
        "[6074](https://codeup.kr/problem.php?id=6074). 영문 소문자(a ~ z) 1개가 입력되었을 때, a부터 그 문자까지의 알파벳을 순서대로 출력해보자."
      ],
      "metadata": {
        "id": "OXuhXtKG9500"
      }
    },
    {
      "cell_type": "code",
      "source": [
        "c = str(input())\n",
        "a = ord(c)\n",
        "for x in range(ord('a'), a + 1):\n",
        "  print(chr(x), end=' ')"
      ],
      "metadata": {
        "id": "MQCCpGw6-BJ8"
      },
      "execution_count": null,
      "outputs": []
    },
    {
      "cell_type": "markdown",
      "source": [
        "입력\n",
        "\n",
        "f\n",
        "\n",
        "출력\n",
        "\n",
        "a b c d e f"
      ],
      "metadata": {
        "id": "ronhV0_v-BXP"
      }
    },
    {
      "cell_type": "markdown",
      "source": [
        "[6075](https://codeup.kr/problem.php?id=6075). 정수(0 ~ 100) 1개를 입력받아 0부터 그 수까지 순서대로 출력해보자. 0부터 그 수까지 줄을 바꿔 한 개씩 출력한다."
      ],
      "metadata": {
        "id": "gMTQmd23CVbf"
      }
    },
    {
      "cell_type": "code",
      "source": [
        "x = int(input())\n",
        "for i in range(0, x + 1):\n",
        "  print(i)"
      ],
      "metadata": {
        "id": "sl8DCvlvCcIi"
      },
      "execution_count": null,
      "outputs": []
    },
    {
      "cell_type": "markdown",
      "source": [
        "입력\n",
        "\n",
        "4\n",
        "\n",
        "출력\n",
        "\n",
        "0\n",
        "\n",
        "1\n",
        "\n",
        "2\n",
        "\n",
        "3\n",
        "\n",
        "4"
      ],
      "metadata": {
        "id": "qetSpgUKCcWy"
      }
    },
    {
      "cell_type": "markdown",
      "source": [
        "[6076](https://codeup.kr/problem.php?id=6076). 정수(0 ~ 100) 1개를 입력받아 0부터 그 수까지 순서대로 출력해보자. 0부터 그 수까지 줄을 바꿔 한 개씩 출력한다."
      ],
      "metadata": {
        "id": "stLqDmv6Cq2V"
      }
    },
    {
      "cell_type": "code",
      "source": [
        "x = int(input())\n",
        "i = 0\n",
        "while i <= x:\n",
        "  print(i)\n",
        "  i += 1"
      ],
      "metadata": {
        "id": "CZJF7dY5DDiT"
      },
      "execution_count": null,
      "outputs": []
    },
    {
      "cell_type": "markdown",
      "source": [
        "입력\n",
        "\n",
        "4\n",
        "\n",
        "출력\n",
        "\n",
        "0\n",
        "\n",
        "1\n",
        "\n",
        "2\n",
        "\n",
        "3\n",
        "\n",
        "4"
      ],
      "metadata": {
        "id": "4RY5QuLPDD9q"
      }
    },
    {
      "cell_type": "markdown",
      "source": [
        "[6077](https://codeup.kr/problem.php?id=6077). 정수(1 ~ 100) 1개를 입력받아 1부터 그 수까지 짝수의 합을 구해보자. 1부터 그 수까지 짝수만 합해 출력한다."
      ],
      "metadata": {
        "id": "bigJhSaXEidP"
      }
    },
    {
      "cell_type": "code",
      "source": [
        "x = int(input())\n",
        "i = 1\n",
        "n = 0\n",
        "while i <= x:\n",
        "  if i % 2 == 0:\n",
        "    n += i\n",
        "  i += 1\n",
        "print(n)"
      ],
      "metadata": {
        "id": "JrXENU5JEpe-"
      },
      "execution_count": null,
      "outputs": []
    },
    {
      "cell_type": "markdown",
      "source": [
        "입력\n",
        "\n",
        "5\n",
        "\n",
        "출력\n",
        "\n",
        "6\n"
      ],
      "metadata": {
        "id": "BBqPolzNEqMF"
      }
    },
    {
      "cell_type": "markdown",
      "source": [
        "[6078](https://codeup.kr/problem.php?id=6078). 영문 소문자 'q'가 입력될 때까지 입력한 문자를 계속 출력하는 프로그램을 작성해보자. 문자들이 1개씩 계속해서 입력된다.\n"
      ],
      "metadata": {
        "id": "4NQOGRPGF9Rr"
      }
    },
    {
      "cell_type": "code",
      "source": [
        "while True:\n",
        "  s = str(input())\n",
        "  print(s)\n",
        "  if s == 'q':\n",
        "    break"
      ],
      "metadata": {
        "id": "hc63HPpSF8ch"
      },
      "execution_count": null,
      "outputs": []
    },
    {
      "cell_type": "markdown",
      "source": [
        "입력\n",
        "\n",
        "x\n",
        "\n",
        "b\n",
        "\n",
        "k\n",
        "\n",
        "d\n",
        "\n",
        "l\n",
        "\n",
        "q\n",
        "\n",
        "g\n",
        "\n",
        "a\n",
        "\n",
        "c\n",
        "\n",
        "출력\n",
        "\n",
        "x\n",
        "\n",
        "b\n",
        "\n",
        "k\n",
        "\n",
        "d\n",
        "\n",
        "l\n",
        "\n",
        "q"
      ],
      "metadata": {
        "id": "lG49mxdkGEfh"
      }
    },
    {
      "cell_type": "markdown",
      "source": [
        "[6079](https://codeup.kr/problem.php?id=6079). 1, 2, 3 ... 을 계속 더해 나갈 때, 그 합이 입력한 정수(0 ~ 1000)와 같거나 커졌을 때, 마지막에 더한 정수를 출력한다."
      ],
      "metadata": {
        "id": "2bnZHV1EGokl"
      }
    },
    {
      "cell_type": "code",
      "source": [
        "x = int(input())\n",
        "i = 0\n",
        "n = 0\n",
        "while True:\n",
        "  i += 1\n",
        "  n += i\n",
        "  if n >= x: # 같거나 커졌을 때\n",
        "    break  \n",
        "print(i)"
      ],
      "metadata": {
        "id": "ygWkHG5YG2fX"
      },
      "execution_count": null,
      "outputs": []
    },
    {
      "cell_type": "markdown",
      "source": [
        "입력\n",
        "\n",
        "55\n",
        "\n",
        "출력\n",
        "\n",
        "10"
      ],
      "metadata": {
        "id": "v9qZ06I4G2vK"
      }
    },
    {
      "cell_type": "markdown",
      "source": [
        "[6080](https://codeup.kr/problem.php?id=6080). 1부터 n까지, 1부터 m까지 숫자가 적힌 서로 다른 주사위 2개를 던졌을 때, 나올 수 있는 모든 경우를 출력해보자. 서로 다른 주사위 2개의 면의 개수 n, m이 공백을 두고 입력된다. 단, n, m은 10 이하의 자연수"
      ],
      "metadata": {
        "id": "25BpVwpuMTWV"
      }
    },
    {
      "cell_type": "code",
      "source": [
        "n, m = map(int, input().split())\n",
        "for i in range(1, n + 1):\n",
        "  for j in range(1, m + 1):\n",
        "    print(i, j)"
      ],
      "metadata": {
        "id": "hNnrfTauMdKP"
      },
      "execution_count": null,
      "outputs": []
    },
    {
      "cell_type": "markdown",
      "source": [
        "입력\n",
        "\n",
        "2 3\n",
        "\n",
        "출력\n",
        "\n",
        "1 1\n",
        "\n",
        "1 2\n",
        "\n",
        "1 3\n",
        "\n",
        "2 1\n",
        "\n",
        "2 2\n",
        "\n",
        "2 3"
      ],
      "metadata": {
        "id": "Gs5IaFy_MdX_"
      }
    }
  ]
}